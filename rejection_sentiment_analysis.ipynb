{
 "cells": [
  {
   "cell_type": "markdown",
   "metadata": {},
   "source": [
    "# Detect Reject emails\n",
    "\n",
    "Author: Sethpoly@kaggle\n",
    "\n",
    "Link: https://www.kaggle.com/code/sethpoly/detect-reject-emails"
   ]
  },
  {
   "metadata": {},
   "cell_type": "markdown",
   "source": "## Section A - University Guided Analysis"
  },
  {
   "cell_type": "code",
   "metadata": {
    "_cell_guid": "b1076dfc-b9ad-4769-8c92-a6c4dae69d19",
    "_uuid": "8f2839f25d086af736a60e9eeb907d3b93b6e0e5",
    "papermill": {
     "duration": 0.06059,
     "end_time": "2021-02-27T19:54:38.917135",
     "exception": false,
     "start_time": "2021-02-27T19:54:38.856545",
     "status": "completed"
    },
    "tags": [],
    "ExecuteTime": {
     "end_time": "2024-09-09T16:35:07.918129Z",
     "start_time": "2024-09-09T16:35:07.908974Z"
    }
   },
   "source": [
    "import numpy as np \n",
    "import pandas as pd\n",
    "from gensim.models import Word2Vec\n",
    "import nltk\n",
    "df = pd.read_csv('Rejection Data - Sheet1.csv')\n",
    "df.tail()"
   ],
   "outputs": [
    {
     "data": {
      "text/plain": [
       "                                                 Email      Status\n",
       "124   Starting March 17, 2021, eBay will no longer ...  not_reject\n",
       "125  Hi Seth,\\n\\nI want to make finding a great rem...  not_reject\n",
       "126  Hello Seth,\\n\\nI just wanted to take a second ...  not_reject\n",
       "127  Your free YouMail plan includes 20 in-app tran...  not_reject\n",
       "128  \\nSupport resources for developers at all leve...  not_reject"
      ],
      "text/html": [
       "<div>\n",
       "<style scoped>\n",
       "    .dataframe tbody tr th:only-of-type {\n",
       "        vertical-align: middle;\n",
       "    }\n",
       "\n",
       "    .dataframe tbody tr th {\n",
       "        vertical-align: top;\n",
       "    }\n",
       "\n",
       "    .dataframe thead th {\n",
       "        text-align: right;\n",
       "    }\n",
       "</style>\n",
       "<table border=\"1\" class=\"dataframe\">\n",
       "  <thead>\n",
       "    <tr style=\"text-align: right;\">\n",
       "      <th></th>\n",
       "      <th>Email</th>\n",
       "      <th>Status</th>\n",
       "    </tr>\n",
       "  </thead>\n",
       "  <tbody>\n",
       "    <tr>\n",
       "      <th>124</th>\n",
       "      <td>Starting March 17, 2021, eBay will no longer ...</td>\n",
       "      <td>not_reject</td>\n",
       "    </tr>\n",
       "    <tr>\n",
       "      <th>125</th>\n",
       "      <td>Hi Seth,\\n\\nI want to make finding a great rem...</td>\n",
       "      <td>not_reject</td>\n",
       "    </tr>\n",
       "    <tr>\n",
       "      <th>126</th>\n",
       "      <td>Hello Seth,\\n\\nI just wanted to take a second ...</td>\n",
       "      <td>not_reject</td>\n",
       "    </tr>\n",
       "    <tr>\n",
       "      <th>127</th>\n",
       "      <td>Your free YouMail plan includes 20 in-app tran...</td>\n",
       "      <td>not_reject</td>\n",
       "    </tr>\n",
       "    <tr>\n",
       "      <th>128</th>\n",
       "      <td>\\nSupport resources for developers at all leve...</td>\n",
       "      <td>not_reject</td>\n",
       "    </tr>\n",
       "  </tbody>\n",
       "</table>\n",
       "</div>"
      ]
     },
     "execution_count": 188,
     "metadata": {},
     "output_type": "execute_result"
    }
   ],
   "execution_count": 188
  },
  {
   "metadata": {
    "ExecuteTime": {
     "end_time": "2024-09-09T16:35:07.963245Z",
     "start_time": "2024-09-09T16:35:07.960136Z"
    }
   },
   "cell_type": "code",
   "source": [
    "#nltk.download() \n",
    "# uncomment to download all packages when dialogue box appears, only needs to be done once"
   ],
   "outputs": [],
   "execution_count": 189
  },
  {
   "cell_type": "code",
   "metadata": {
    "papermill": {
     "duration": 0.19294,
     "end_time": "2021-02-27T19:54:39.117736",
     "exception": false,
     "start_time": "2021-02-27T19:54:38.924796",
     "status": "completed"
    },
    "tags": [],
    "ExecuteTime": {
     "end_time": "2024-09-09T16:35:08.050958Z",
     "start_time": "2024-09-09T16:35:08.040620Z"
    }
   },
   "source": [
    "import string\n",
    "import matplotlib.pyplot as plt\n",
    "import nltk\n",
    "\n",
    "df.Email = df.Email.apply(lambda x: x.translate(str.maketrans('\\n',' '))) # replace new line with spaces\n",
    "df.tail()\n",
    "\n"
   ],
   "outputs": [
    {
     "data": {
      "text/plain": [
       "                                                 Email      Status\n",
       "124   Starting March 17, 2021, eBay will no longer ...  not_reject\n",
       "125  Hi Seth,  I want to make finding a great remot...  not_reject\n",
       "126  Hello Seth,  I just wanted to take a second to...  not_reject\n",
       "127  Your free YouMail plan includes 20 in-app tran...  not_reject\n",
       "128   Support resources for developers at all level...  not_reject"
      ],
      "text/html": [
       "<div>\n",
       "<style scoped>\n",
       "    .dataframe tbody tr th:only-of-type {\n",
       "        vertical-align: middle;\n",
       "    }\n",
       "\n",
       "    .dataframe tbody tr th {\n",
       "        vertical-align: top;\n",
       "    }\n",
       "\n",
       "    .dataframe thead th {\n",
       "        text-align: right;\n",
       "    }\n",
       "</style>\n",
       "<table border=\"1\" class=\"dataframe\">\n",
       "  <thead>\n",
       "    <tr style=\"text-align: right;\">\n",
       "      <th></th>\n",
       "      <th>Email</th>\n",
       "      <th>Status</th>\n",
       "    </tr>\n",
       "  </thead>\n",
       "  <tbody>\n",
       "    <tr>\n",
       "      <th>124</th>\n",
       "      <td>Starting March 17, 2021, eBay will no longer ...</td>\n",
       "      <td>not_reject</td>\n",
       "    </tr>\n",
       "    <tr>\n",
       "      <th>125</th>\n",
       "      <td>Hi Seth,  I want to make finding a great remot...</td>\n",
       "      <td>not_reject</td>\n",
       "    </tr>\n",
       "    <tr>\n",
       "      <th>126</th>\n",
       "      <td>Hello Seth,  I just wanted to take a second to...</td>\n",
       "      <td>not_reject</td>\n",
       "    </tr>\n",
       "    <tr>\n",
       "      <th>127</th>\n",
       "      <td>Your free YouMail plan includes 20 in-app tran...</td>\n",
       "      <td>not_reject</td>\n",
       "    </tr>\n",
       "    <tr>\n",
       "      <th>128</th>\n",
       "      <td>Support resources for developers at all level...</td>\n",
       "      <td>not_reject</td>\n",
       "    </tr>\n",
       "  </tbody>\n",
       "</table>\n",
       "</div>"
      ]
     },
     "execution_count": 190,
     "metadata": {},
     "output_type": "execute_result"
    }
   ],
   "execution_count": 190
  },
  {
   "cell_type": "code",
   "metadata": {
    "ExecuteTime": {
     "end_time": "2024-09-09T16:35:08.277989Z",
     "start_time": "2024-09-09T16:35:08.202670Z"
    }
   },
   "source": [
    "df.Status.value_counts().plot(kind='bar')\n",
    "plt.show()"
   ],
   "outputs": [
    {
     "data": {
      "text/plain": [
       "<Figure size 640x480 with 1 Axes>"
      ],
      "image/png": "[encoded data removed]"
     },
     "metadata": {},
     "output_type": "display_data"
    }
   ],
   "execution_count": 191
  },
  {
   "cell_type": "code",
   "metadata": {
    "ExecuteTime": {
     "end_time": "2024-09-09T16:35:08.387795Z",
     "start_time": "2024-09-09T16:35:08.383349Z"
    }
   },
   "source": [
    "# Counts for each Status value\n",
    "status_counts = df['Status'].value_counts()\n",
    "\n",
    "# Count of all Status values\n",
    "total_counts = status_counts.sum()\n",
    "\n",
    "print(\"Total counts for each status:\")\n",
    "print(status_counts)\n",
    "print(\"\\nTotal count of all statuses:\", total_counts)"
   ],
   "outputs": [
    {
     "name": "stdout",
     "output_type": "stream",
     "text": [
      "Total counts for each status:\n",
      "Status\n",
      "reject        65\n",
      "not_reject    64\n",
      "Name: count, dtype: int64\n",
      "\n",
      "Total count of all statuses: 129\n"
     ]
    }
   ],
   "execution_count": 192
  },
  {
   "cell_type": "code",
   "metadata": {
    "ExecuteTime": {
     "end_time": "2024-09-09T16:35:08.512497Z",
     "start_time": "2024-09-09T16:35:08.468802Z"
    }
   },
   "source": [
    "# Add a column 'Tokens' to df, to hold the email contents as a list of tokens\n",
    "df['Tokens'] = [nltk.word_tokenize(e) for e in df.Email]\n",
    "\n",
    "print(df.Tokens[0])"
   ],
   "outputs": [
    {
     "name": "stdout",
     "output_type": "stream",
     "text": [
      "['Thank', 'you', 'for', 'applying', 'to', 'the', 'Junior', 'Software', 'Developer', 'position', 'at', 'MSC', 'Technology', '.', 'Unfortunately', ',', 'MSC', 'Technology', 'has', 'moved', 'to', 'the', 'next', 'step', 'in', 'their', 'hiring', 'process', ',', 'and', 'your', 'application', 'was', 'not', 'selected', 'at', 'this', 'time', '.']\n"
     ]
    }
   ],
   "execution_count": 193
  },
  {
   "cell_type": "code",
   "metadata": {
    "ExecuteTime": {
     "end_time": "2024-09-09T16:35:08.557966Z",
     "start_time": "2024-09-09T16:35:08.549260Z"
    }
   },
   "source": [
    "# New column that contains the number of tokens in each row\n",
    "df['Length'] = df['Tokens'].apply(len)\n",
    "df.head()"
   ],
   "outputs": [
    {
     "data": {
      "text/plain": [
       "                                               Email  Status  \\\n",
       "0  Thank you for applying to the Junior Software ...  reject   \n",
       "1  Thank you for your interest in the Train To Hi...  reject   \n",
       "2  eth,   Thank you for your interest in Exyn and...  reject   \n",
       "3  Thank you for your interest in the Software En...  reject   \n",
       "4  Hi Seth,  Thank you for your interest in PathA...  reject   \n",
       "\n",
       "                                              Tokens  Length  \n",
       "0  [Thank, you, for, applying, to, the, Junior, S...      39  \n",
       "1  [Thank, you, for, your, interest, in, the, Tra...      47  \n",
       "2  [eth, ,, Thank, you, for, your, interest, in, ...     139  \n",
       "3  [Thank, you, for, your, interest, in, the, Sof...      49  \n",
       "4  [Hi, Seth, ,, Thank, you, for, your, interest,...      81  "
      ],
      "text/html": [
       "<div>\n",
       "<style scoped>\n",
       "    .dataframe tbody tr th:only-of-type {\n",
       "        vertical-align: middle;\n",
       "    }\n",
       "\n",
       "    .dataframe tbody tr th {\n",
       "        vertical-align: top;\n",
       "    }\n",
       "\n",
       "    .dataframe thead th {\n",
       "        text-align: right;\n",
       "    }\n",
       "</style>\n",
       "<table border=\"1\" class=\"dataframe\">\n",
       "  <thead>\n",
       "    <tr style=\"text-align: right;\">\n",
       "      <th></th>\n",
       "      <th>Email</th>\n",
       "      <th>Status</th>\n",
       "      <th>Tokens</th>\n",
       "      <th>Length</th>\n",
       "    </tr>\n",
       "  </thead>\n",
       "  <tbody>\n",
       "    <tr>\n",
       "      <th>0</th>\n",
       "      <td>Thank you for applying to the Junior Software ...</td>\n",
       "      <td>reject</td>\n",
       "      <td>[Thank, you, for, applying, to, the, Junior, S...</td>\n",
       "      <td>39</td>\n",
       "    </tr>\n",
       "    <tr>\n",
       "      <th>1</th>\n",
       "      <td>Thank you for your interest in the Train To Hi...</td>\n",
       "      <td>reject</td>\n",
       "      <td>[Thank, you, for, your, interest, in, the, Tra...</td>\n",
       "      <td>47</td>\n",
       "    </tr>\n",
       "    <tr>\n",
       "      <th>2</th>\n",
       "      <td>eth,   Thank you for your interest in Exyn and...</td>\n",
       "      <td>reject</td>\n",
       "      <td>[eth, ,, Thank, you, for, your, interest, in, ...</td>\n",
       "      <td>139</td>\n",
       "    </tr>\n",
       "    <tr>\n",
       "      <th>3</th>\n",
       "      <td>Thank you for your interest in the Software En...</td>\n",
       "      <td>reject</td>\n",
       "      <td>[Thank, you, for, your, interest, in, the, Sof...</td>\n",
       "      <td>49</td>\n",
       "    </tr>\n",
       "    <tr>\n",
       "      <th>4</th>\n",
       "      <td>Hi Seth,  Thank you for your interest in PathA...</td>\n",
       "      <td>reject</td>\n",
       "      <td>[Hi, Seth, ,, Thank, you, for, your, interest,...</td>\n",
       "      <td>81</td>\n",
       "    </tr>\n",
       "  </tbody>\n",
       "</table>\n",
       "</div>"
      ]
     },
     "execution_count": 194,
     "metadata": {},
     "output_type": "execute_result"
    }
   ],
   "execution_count": 194
  },
  {
   "cell_type": "code",
   "metadata": {
    "ExecuteTime": {
     "end_time": "2024-09-09T16:35:08.729700Z",
     "start_time": "2024-09-09T16:35:08.619555Z"
    }
   },
   "source": [
    "# Boxplot visualisation comparing token lengths by rejection status\n",
    "\n",
    "status_grouped = df.groupby('Status')['Length']\n",
    "\n",
    "reject = status_grouped.get_group('reject')\n",
    "not_reject = status_grouped.get_group('not_reject')\n",
    "\n",
    "red_circle = dict(markerfacecolor='red', marker='o')\n",
    "mean_shape = dict(markerfacecolor='green', marker='D', markeredgecolor='green')\n",
    "\n",
    "plt.figure(figsize=(8, 6))\n",
    "plt.boxplot([reject, not_reject], vert=False, labels=['Reject Emails', 'Not Reject Emails'],\n",
    "            flierprops=red_circle, showmeans=True, meanprops=mean_shape, notch=True);\n",
    "\n",
    "plt.xlabel('Length')\n",
    "plt.ylabel('Status')\n",
    "plt.title('Boxplots of Email Lengths by Rejection Status')\n",
    "plt.show()"
   ],
   "outputs": [
    {
     "name": "stderr",
     "output_type": "stream",
     "text": [
      "C:\\Users\\ellyp\\AppData\\Local\\Temp\\ipykernel_20040\\454518017.py:12: MatplotlibDeprecationWarning: The 'labels' parameter of boxplot() has been renamed 'tick_labels' since Matplotlib 3.9; support for the old name will be dropped in 3.11.\n",
      "  plt.boxplot([reject, not_reject], vert=False, labels=['Reject Emails', 'Not Reject Emails'],\n"
     ]
    },
    {
     "data": {
      "text/plain": [
       "<Figure size 800x600 with 1 Axes>"
      ],
      "image/png": "[encoded data removed]"
     },
     "metadata": {},
     "output_type": "display_data"
    }
   ],
   "execution_count": 195
  },
  {
   "cell_type": "code",
   "metadata": {
    "ExecuteTime": {
     "end_time": "2024-09-09T16:35:08.858344Z",
     "start_time": "2024-09-09T16:35:08.849259Z"
    }
   },
   "source": [
    "# Column to define the texical richness for each row, number of unique tokens in a text\n",
    "\n",
    "df['LexRich'] = df['Tokens'].apply(lambda x: len(set(x)) / len(x))\n",
    "df.head()"
   ],
   "outputs": [
    {
     "data": {
      "text/plain": [
       "                                               Email  Status  \\\n",
       "0  Thank you for applying to the Junior Software ...  reject   \n",
       "1  Thank you for your interest in the Train To Hi...  reject   \n",
       "2  eth,   Thank you for your interest in Exyn and...  reject   \n",
       "3  Thank you for your interest in the Software En...  reject   \n",
       "4  Hi Seth,  Thank you for your interest in PathA...  reject   \n",
       "\n",
       "                                              Tokens  Length   LexRich  \n",
       "0  [Thank, you, for, applying, to, the, Junior, S...      39  0.820513  \n",
       "1  [Thank, you, for, your, interest, in, the, Tra...      47  0.765957  \n",
       "2  [eth, ,, Thank, you, for, your, interest, in, ...     139  0.669065  \n",
       "3  [Thank, you, for, your, interest, in, the, Sof...      49  0.673469  \n",
       "4  [Hi, Seth, ,, Thank, you, for, your, interest,...      81  0.703704  "
      ],
      "text/html": [
       "<div>\n",
       "<style scoped>\n",
       "    .dataframe tbody tr th:only-of-type {\n",
       "        vertical-align: middle;\n",
       "    }\n",
       "\n",
       "    .dataframe tbody tr th {\n",
       "        vertical-align: top;\n",
       "    }\n",
       "\n",
       "    .dataframe thead th {\n",
       "        text-align: right;\n",
       "    }\n",
       "</style>\n",
       "<table border=\"1\" class=\"dataframe\">\n",
       "  <thead>\n",
       "    <tr style=\"text-align: right;\">\n",
       "      <th></th>\n",
       "      <th>Email</th>\n",
       "      <th>Status</th>\n",
       "      <th>Tokens</th>\n",
       "      <th>Length</th>\n",
       "      <th>LexRich</th>\n",
       "    </tr>\n",
       "  </thead>\n",
       "  <tbody>\n",
       "    <tr>\n",
       "      <th>0</th>\n",
       "      <td>Thank you for applying to the Junior Software ...</td>\n",
       "      <td>reject</td>\n",
       "      <td>[Thank, you, for, applying, to, the, Junior, S...</td>\n",
       "      <td>39</td>\n",
       "      <td>0.820513</td>\n",
       "    </tr>\n",
       "    <tr>\n",
       "      <th>1</th>\n",
       "      <td>Thank you for your interest in the Train To Hi...</td>\n",
       "      <td>reject</td>\n",
       "      <td>[Thank, you, for, your, interest, in, the, Tra...</td>\n",
       "      <td>47</td>\n",
       "      <td>0.765957</td>\n",
       "    </tr>\n",
       "    <tr>\n",
       "      <th>2</th>\n",
       "      <td>eth,   Thank you for your interest in Exyn and...</td>\n",
       "      <td>reject</td>\n",
       "      <td>[eth, ,, Thank, you, for, your, interest, in, ...</td>\n",
       "      <td>139</td>\n",
       "      <td>0.669065</td>\n",
       "    </tr>\n",
       "    <tr>\n",
       "      <th>3</th>\n",
       "      <td>Thank you for your interest in the Software En...</td>\n",
       "      <td>reject</td>\n",
       "      <td>[Thank, you, for, your, interest, in, the, Sof...</td>\n",
       "      <td>49</td>\n",
       "      <td>0.673469</td>\n",
       "    </tr>\n",
       "    <tr>\n",
       "      <th>4</th>\n",
       "      <td>Hi Seth,  Thank you for your interest in PathA...</td>\n",
       "      <td>reject</td>\n",
       "      <td>[Hi, Seth, ,, Thank, you, for, your, interest,...</td>\n",
       "      <td>81</td>\n",
       "      <td>0.703704</td>\n",
       "    </tr>\n",
       "  </tbody>\n",
       "</table>\n",
       "</div>"
      ]
     },
     "execution_count": 196,
     "metadata": {},
     "output_type": "execute_result"
    }
   ],
   "execution_count": 196
  },
  {
   "cell_type": "code",
   "metadata": {
    "ExecuteTime": {
     "end_time": "2024-09-09T16:35:08.943549Z",
     "start_time": "2024-09-09T16:35:08.939159Z"
    }
   },
   "source": [
    "# Calculate the mean lexical richness of each rejection status\n",
    "\n",
    "status_grouped = df.groupby('Status')['LexRich']\n",
    "\n",
    "lex_reject = status_grouped.get_group('reject').mean()\n",
    "lex_not_reject = status_grouped.get_group('not_reject').mean()\n",
    "\n",
    "print(lex_reject)\n",
    "print(lex_not_reject)"
   ],
   "outputs": [
    {
     "name": "stdout",
     "output_type": "stream",
     "text": [
      "0.7224843001105477\n",
      "0.7282174937343919\n"
     ]
    }
   ],
   "execution_count": 197
  },
  {
   "cell_type": "code",
   "metadata": {
    "ExecuteTime": {
     "end_time": "2024-09-09T16:35:09.118894Z",
     "start_time": "2024-09-09T16:35:09.009301Z"
    }
   },
   "source": [
    "# Train Word2Vec model and list top 20 most similar tokens for the token \"developer\"\n",
    "model = Word2Vec(sentences=df.Tokens, vector_size=100, window=5, min_count=1, workers=4) "
   ],
   "outputs": [],
   "execution_count": 198
  },
  {
   "cell_type": "code",
   "metadata": {
    "ExecuteTime": {
     "end_time": "2024-09-09T16:35:09.274388Z",
     "start_time": "2024-09-09T16:35:09.267951Z"
    }
   },
   "source": [
    "sims = model.wv.most_similar('developer', topn=20)\n",
    "for s in sims:\n",
    "    print(s)"
   ],
   "outputs": [
    {
     "name": "stdout",
     "output_type": "stream",
     "text": [
      "('1', 0.9165460467338562)\n",
      "('want', 0.9134101271629333)\n",
      "('move', 0.9120802283287048)\n",
      "('visit', 0.9112200736999512)\n",
      "('reviewed', 0.9109304547309875)\n",
      "('any', 0.9108055233955383)\n",
      "('ago', 0.9105098247528076)\n",
      "('been', 0.9104858040809631)\n",
      "('but', 0.9102214574813843)\n",
      "('clients', 0.9101994633674622)\n",
      "('what', 0.9100767970085144)\n",
      "('consider', 0.9099438786506653)\n",
      "('experience', 0.9097253680229187)\n",
      "('also', 0.9095905423164368)\n",
      "('one', 0.9095638394355774)\n",
      "('position', 0.9095529913902283)\n",
      "('success', 0.9094544649124146)\n",
      "('fit', 0.9094205498695374)\n",
      "('how', 0.9094178676605225)\n",
      "('do', 0.9093796014785767)\n"
     ]
    }
   ],
   "execution_count": 199
  },
  {
   "cell_type": "markdown",
   "metadata": {},
   "source": [
    "## Section B - Independent Exploration and Analysis\n",
    "First thing I want to do is see how many times Seth is called by his name. This requires some pre-processing to change to lowercase and also, from glancing at the dataset, considering occasions where the first letter has been dropped. "
   ]
  },
  {
   "cell_type": "code",
   "metadata": {
    "scrolled": true,
    "ExecuteTime": {
     "end_time": "2024-09-09T16:35:09.393397Z",
     "start_time": "2024-09-09T16:35:09.385580Z"
    }
   },
   "source": [
    "# Change to lowercase\n",
    "df['Tokens'] = [[token.lower() for token in tokens] for tokens in df['Tokens']]\n",
    "df.head()\n",
    "\n",
    "# Count 'eth'\n",
    "count_eth = sum('eth' in tokens for tokens in df['Tokens'])\n",
    "print(\"Count of 'eth' :\", count_eth)\n",
    "\n",
    "# Count 'seth'\n",
    "count_seth = sum('seth' in tokens for tokens in df['Tokens'])\n",
    "print(\"Count of 'Seth' :\", count_seth)"
   ],
   "outputs": [
    {
     "name": "stdout",
     "output_type": "stream",
     "text": [
      "Count of 'eth' : 2\n",
      "Count of 'Seth' : 25\n"
     ]
    }
   ],
   "execution_count": 200
  },
  {
   "cell_type": "code",
   "metadata": {
    "ExecuteTime": {
     "end_time": "2024-09-09T16:35:09.420797Z",
     "start_time": "2024-09-09T16:35:09.414349Z"
    }
   },
   "source": [
    "# Observe the split between rejection status\n",
    "\n",
    "status_grouped = df.groupby('Status')['Tokens']\n",
    "\n",
    "# Count 'eth' for RE and NRE\n",
    "eth_reject = sum('eth' in tokens for tokens in status_grouped.get_group('reject'))\n",
    "eth_not_reject = sum('eth' in tokens for tokens in status_grouped.get_group('not_reject'))\n",
    "\n",
    "print(\"Count of 'eth' in reject emails :\", eth_reject)\n",
    "print(\"Count of 'eth' in non-reject emails :\", eth_not_reject)\n",
    "\n",
    "# Count 'seth' for RE and NRE\n",
    "seth_reject = sum('seth' in tokens for tokens in status_grouped.get_group('reject'))\n",
    "seth_not_reject = sum('seth' in tokens for tokens in status_grouped.get_group('not_reject'))\n",
    "\n",
    "print(\"Count of 'Seth' in reject emails :\",seth_reject)\n",
    "print(\"Count of 'Seth' in non-reject emails :\", seth_not_reject)"
   ],
   "outputs": [
    {
     "name": "stdout",
     "output_type": "stream",
     "text": [
      "Count of 'eth' in reject emails : 2\n",
      "Count of 'eth' in non-reject emails : 0\n",
      "Count of 'Seth' in reject emails : 11\n",
      "Count of 'Seth' in non-reject emails : 14\n"
     ]
    }
   ],
   "execution_count": 201
  },
  {
   "cell_type": "code",
   "metadata": {
    "scrolled": true,
    "ExecuteTime": {
     "end_time": "2024-09-09T16:35:09.563814Z",
     "start_time": "2024-09-09T16:35:09.470402Z"
    }
   },
   "source": [
    "# Visualise results as a bar chart\n",
    "\n",
    "categories = ['eth_reject', 'eth_not_reject', 'seth_reject', 'seth_not_reject']\n",
    "counts = [eth_reject, eth_not_reject, seth_reject, seth_not_reject]\n",
    "\n",
    "# Create bar chart\n",
    "plt.bar(categories, counts, color=['blue', 'orange', 'green', 'red'])\n",
    "\n",
    "# Add labels and title\n",
    "plt.xlabel('Categories')\n",
    "plt.ylabel('Counts')\n",
    "plt.title('Counts of \"eth\" and \"seth\" by Rejection Status')\n",
    "\n",
    "# Show plot\n",
    "plt.show()"
   ],
   "outputs": [
    {
     "data": {
      "text/plain": [
       "<Figure size 640x480 with 1 Axes>"
      ],
      "image/png": "[encoded data removed]"
     },
     "metadata": {},
     "output_type": "display_data"
    }
   ],
   "execution_count": 202
  },
  {
   "cell_type": "markdown",
   "metadata": {},
   "source": "Quick glance shows us there's roughly equal counts of his name for each category. If we consider \"eth\" to mean seth there's 13 counts in RE and 14 for NRE. The fact that \"eth\" only appears in the reject category emphasises some impersonalisation in these emails"
  },
  {
   "cell_type": "markdown",
   "metadata": {
    "ExecuteTime": {
     "end_time": "2024-04-08T16:57:56.589048Z",
     "start_time": "2024-04-08T16:57:56.569942Z"
    }
   },
   "source": "The boxplot in the earlier part of the analysis allowed us to compare token lengths within the status categories, I'd now like to extract the exact values from this box plot. "
  },
  {
   "cell_type": "code",
   "metadata": {
    "ExecuteTime": {
     "end_time": "2024-09-09T16:35:09.737579Z",
     "start_time": "2024-09-09T16:35:09.596394Z"
    }
   },
   "source": [
    "# Visualise the box plot again for ease of reference\n",
    "\n",
    "status_grouped = df.groupby('Status')['Length']\n",
    "\n",
    "reject = status_grouped.get_group('reject')\n",
    "not_reject = status_grouped.get_group('not_reject')\n",
    "\n",
    "red_circle = dict(markerfacecolor='red', marker='o')\n",
    "mean_shape = dict(markerfacecolor='green', marker='D', markeredgecolor='green')\n",
    "\n",
    "plt.figure(figsize=(8, 6))\n",
    "plt.boxplot([reject, not_reject], vert=False, labels=['Reject Emails', 'Not Reject Emails'],\n",
    "            flierprops=red_circle, showmeans=True, meanprops=mean_shape, notch=True);\n",
    "\n",
    "plt.xlabel('Length')\n",
    "plt.ylabel('Status')\n",
    "plt.title('Boxplots of Email Lengths by Rejection Status')\n",
    "plt.show()\n",
    "\n",
    "import matplotlib.cbook as cbook\n",
    "\n",
    "reject_stats = cbook.boxplot_stats(reject)\n",
    "not_reject_stats = cbook.boxplot_stats(not_reject)\n",
    "\n",
    "print(\"NRE stats:\")\n",
    "print(not_reject_stats)\n",
    "\n",
    "print(\"RE stats:\")\n",
    "print(reject_stats)"
   ],
   "outputs": [
    {
     "name": "stderr",
     "output_type": "stream",
     "text": [
      "C:\\Users\\ellyp\\AppData\\Local\\Temp\\ipykernel_20040\\2244736967.py:12: MatplotlibDeprecationWarning: The 'labels' parameter of boxplot() has been renamed 'tick_labels' since Matplotlib 3.9; support for the old name will be dropped in 3.11.\n",
      "  plt.boxplot([reject, not_reject], vert=False, labels=['Reject Emails', 'Not Reject Emails'],\n"
     ]
    },
    {
     "data": {
      "text/plain": [
       "<Figure size 800x600 with 1 Axes>"
      ],
      "image/png": "[encoded data removed]"
     },
     "metadata": {},
     "output_type": "display_data"
    },
    {
     "name": "stdout",
     "output_type": "stream",
     "text": [
      "NRE stats:\n",
      "[{'mean': 106.21875, 'iqr': 82.5, 'cilo': 70.309375, 'cihi': 102.690625, 'whishi': 252, 'whislo': 12, 'fliers': array([430, 488, 259], dtype=int64), 'q1': 49.75, 'med': 86.5, 'q3': 132.25}]\n",
      "RE stats:\n",
      "[{'mean': 80.3076923076923, 'iqr': 63.0, 'cilo': 63.73172440178139, 'cihi': 88.26827559821861, 'whishi': 190, 'whislo': 22, 'fliers': array([], dtype=int64), 'q1': 47.0, 'med': 76.0, 'q3': 110.0}]\n"
     ]
    }
   ],
   "execution_count": 203
  },
  {
   "cell_type": "markdown",
   "metadata": {},
   "source": [
    "Breakdown:\n",
    "\n",
    "- The mean token length in NRE is 106.11 compared to a length of 80.25 in RE.\n",
    "- IQR = the width of the box. NRE is a larger box at 82.5 with RE at 62.\n",
    "- cilo = lower bound of the confidence interval for the median, the starting point for the lowest notch. NRE set at 70.31, RE at 63.93.\n",
    "- cihi = upper bound of the confidence interval/finishing point of the highest notch. NRE set at 102.70, RE at 88.07.\n",
    "- whishi = the max token length value on the whiskers. 250 for NRE, 190 for RE. Notable that these are whole numbers.\n",
    "- whislo = the min token length value on the whiskers. 12 for NRE, 22 for RE.\n",
    "- fliers = Outliers: none for RE but the token lengths for the outliers in NRE are 430, 288 and 258.\n",
    "- q1 = the lower quartile. 49.72 for NRE and 47 for RE, similiar results evidenced in the box plot.\n",
    "- median = the median line. 86.5 for NRE and 76 for RE. only a difference of 10.\n",
    "- q3 = the upper quartile. a difference of 132.25 for NRE and 109 for RE 109 for RE."
   ]
  },
  {
   "cell_type": "markdown",
   "metadata": {},
   "source": [
    "The exact figures confirm that both groups have similar token lengths at the lower bounds, as reflected in the Q1 results. The NRE group surpasses the RE group in instances with longer token counts, as initially observed in the boxplot and further validated by metrics such as IQR, cilo, cihi, whiskers, median, and Q3, all of which are higher in the non-rejection group compared to the rejection group.\n",
    "\n",
    "The next investigation will be to observe the email from each group with a low token count and build a parser tree for each. "
   ]
  },
  {
   "cell_type": "code",
   "metadata": {
    "ExecuteTime": {
     "end_time": "2024-09-09T16:35:09.843455Z",
     "start_time": "2024-09-09T16:35:09.835993Z"
    }
   },
   "source": [
    "# Using whislo results, display emails with a token length less than 23\n",
    "\n",
    "small_tokens = df[df['Tokens'].str.len() < 23]\n",
    "\n",
    "small_tokens.head()"
   ],
   "outputs": [
    {
     "data": {
      "text/plain": [
       "                                                 Email      Status  \\\n",
       "28   Unfortunately, PatientsLikeMe, LLC has decided...      reject   \n",
       "98   Hi Seth, Your package has been delivered!  How...  not_reject   \n",
       "101  Hi Seth, Rate your experience with the seller,...  not_reject   \n",
       "116  Thanks for applying for the position of Softwa...  not_reject   \n",
       "119  Hi Seth,  Your financial statement for Jan 16,...  not_reject   \n",
       "\n",
       "                                                Tokens  Length   LexRich  \n",
       "28   [unfortunately, ,, patientslikeme, ,, llc, has...      22  0.954545  \n",
       "98   [hi, seth, ,, your, package, has, been, delive...      14  1.000000  \n",
       "101  [hi, seth, ,, rate, your, experience, with, th...      12  0.916667  \n",
       "116  [thanks, for, applying, for, the, position, of...      17  0.941176  \n",
       "119  [hi, seth, ,, your, financial, statement, for,...      20  0.850000  "
      ],
      "text/html": [
       "<div>\n",
       "<style scoped>\n",
       "    .dataframe tbody tr th:only-of-type {\n",
       "        vertical-align: middle;\n",
       "    }\n",
       "\n",
       "    .dataframe tbody tr th {\n",
       "        vertical-align: top;\n",
       "    }\n",
       "\n",
       "    .dataframe thead th {\n",
       "        text-align: right;\n",
       "    }\n",
       "</style>\n",
       "<table border=\"1\" class=\"dataframe\">\n",
       "  <thead>\n",
       "    <tr style=\"text-align: right;\">\n",
       "      <th></th>\n",
       "      <th>Email</th>\n",
       "      <th>Status</th>\n",
       "      <th>Tokens</th>\n",
       "      <th>Length</th>\n",
       "      <th>LexRich</th>\n",
       "    </tr>\n",
       "  </thead>\n",
       "  <tbody>\n",
       "    <tr>\n",
       "      <th>28</th>\n",
       "      <td>Unfortunately, PatientsLikeMe, LLC has decided...</td>\n",
       "      <td>reject</td>\n",
       "      <td>[unfortunately, ,, patientslikeme, ,, llc, has...</td>\n",
       "      <td>22</td>\n",
       "      <td>0.954545</td>\n",
       "    </tr>\n",
       "    <tr>\n",
       "      <th>98</th>\n",
       "      <td>Hi Seth, Your package has been delivered!  How...</td>\n",
       "      <td>not_reject</td>\n",
       "      <td>[hi, seth, ,, your, package, has, been, delive...</td>\n",
       "      <td>14</td>\n",
       "      <td>1.000000</td>\n",
       "    </tr>\n",
       "    <tr>\n",
       "      <th>101</th>\n",
       "      <td>Hi Seth, Rate your experience with the seller,...</td>\n",
       "      <td>not_reject</td>\n",
       "      <td>[hi, seth, ,, rate, your, experience, with, th...</td>\n",
       "      <td>12</td>\n",
       "      <td>0.916667</td>\n",
       "    </tr>\n",
       "    <tr>\n",
       "      <th>116</th>\n",
       "      <td>Thanks for applying for the position of Softwa...</td>\n",
       "      <td>not_reject</td>\n",
       "      <td>[thanks, for, applying, for, the, position, of...</td>\n",
       "      <td>17</td>\n",
       "      <td>0.941176</td>\n",
       "    </tr>\n",
       "    <tr>\n",
       "      <th>119</th>\n",
       "      <td>Hi Seth,  Your financial statement for Jan 16,...</td>\n",
       "      <td>not_reject</td>\n",
       "      <td>[hi, seth, ,, your, financial, statement, for,...</td>\n",
       "      <td>20</td>\n",
       "      <td>0.850000</td>\n",
       "    </tr>\n",
       "  </tbody>\n",
       "</table>\n",
       "</div>"
      ]
     },
     "execution_count": 204,
     "metadata": {},
     "output_type": "execute_result"
    }
   ],
   "execution_count": 204
  },
  {
   "metadata": {
    "ExecuteTime": {
     "end_time": "2024-09-09T16:35:09.908252Z",
     "start_time": "2024-09-09T16:35:09.902271Z"
    }
   },
   "cell_type": "code",
   "source": [
    "import string\n",
    "\n",
    "# store the tokens for respective emails in new variables \n",
    "re_tree = [token for token in small_tokens['Tokens'][28]]\n",
    "nre_tree = [token for token in small_tokens['Tokens'][119]]\n",
    "\n",
    "# preprocess to remove punctuation and empty strings \n",
    "pp_re_tree = [''.join(char for char in token if char not in string.punctuation) for token in re_tree]\n",
    "pp_nre_tree = [''.join(char for char in token if char not in string.punctuation) for token in nre_tree]\n",
    "\n",
    "pp_re_tree = [token for token in pp_re_tree if token]\n",
    "pp_nre_tree = [token for token in pp_nre_tree if token]\n",
    "\n",
    "print(\"Rejection email to parse\", pp_re_tree)\n",
    "print(\"Non-rejection email to parse\", pp_nre_tree)\n",
    "print(\"Token Lengths: RE\", len(set(pp_re_tree)), \"NRE\", len(set(pp_nre_tree)))"
   ],
   "outputs": [
    {
     "name": "stdout",
     "output_type": "stream",
     "text": [
      "Rejection email to parse ['unfortunately', 'patientslikeme', 'llc', 'has', 'decided', 'not', 'to', 'move', 'forward', 'with', 'your', 'full', 'stack', 'software', 'engineer', 'application', 'at', 'this', 'time']\n",
      "Non-rejection email to parse ['hi', 'seth', 'your', 'financial', 'statement', 'for', 'jan', '16', '2021', 'through', 'feb', '15', '2021', 'has', 'been', 'generated']\n",
      "Token Lengths: RE 19 NRE 15\n"
     ]
    }
   ],
   "execution_count": 205
  },
  {
   "metadata": {
    "ExecuteTime": {
     "end_time": "2024-09-09T16:35:09.969629Z",
     "start_time": "2024-09-09T16:35:09.958684Z"
    }
   },
   "cell_type": "code",
   "source": [
    "# Apply stemming, observe token changes and unique token count\n",
    "\n",
    "porter = nltk.PorterStemmer()\n",
    "lancaster = nltk.LancasterStemmer()\n",
    "\n",
    "# re\n",
    "re_porter_stem = [porter.stem(t) for t in pp_re_tree]\n",
    "re_lancaster_stem = [lancaster.stem(t) for t in pp_re_tree]\n",
    "print(\"RE Porter Stemmer:\", re_porter_stem)\n",
    "print(\"RE Lancaster Stemmer:\", re_lancaster_stem)\n",
    "print(\"RE Token Lengths: Porter\", len(set(re_porter_stem)), \"Lancaster\", len(set(re_lancaster_stem)))\n",
    "\n",
    "# Line break\n",
    "print(\"\\n-------------------\\n\")\n",
    "\n",
    "# nre \n",
    "nre_porter_stem = [porter.stem(t) for t in pp_nre_tree]\n",
    "nre_lancaster_stem = [lancaster.stem(t) for t in pp_nre_tree]\n",
    "print(\"NRE Porter Stemmer:\", nre_porter_stem)\n",
    "print(\"NRE Lancaster Stemmer:\", nre_lancaster_stem)\n",
    "print(\"NRE Token Lengths: Porter\", len(set(nre_porter_stem)), \"Lancaster\", len(set(nre_lancaster_stem)))\n"
   ],
   "outputs": [
    {
     "name": "stdout",
     "output_type": "stream",
     "text": [
      "RE Porter Stemmer: ['unfortun', 'patientslikem', 'llc', 'ha', 'decid', 'not', 'to', 'move', 'forward', 'with', 'your', 'full', 'stack', 'softwar', 'engin', 'applic', 'at', 'thi', 'time']\n",
      "RE Lancaster Stemmer: ['unfortun', 'patientslikem', 'llc', 'has', 'decid', 'not', 'to', 'mov', 'forward', 'with', 'yo', 'ful', 'stack', 'softw', 'engin', 'apply', 'at', 'thi', 'tim']\n",
      "RE Token Lengths: Porter 19 Lancaster 19\n",
      "\n",
      "-------------------\n",
      "\n",
      "NRE Porter Stemmer: ['hi', 'seth', 'your', 'financi', 'statement', 'for', 'jan', '16', '2021', 'through', 'feb', '15', '2021', 'ha', 'been', 'gener']\n",
      "NRE Lancaster Stemmer: ['hi', 'seth', 'yo', 'fin', 'stat', 'for', 'jan', '16', '2021', 'through', 'feb', '15', '2021', 'has', 'been', 'gen']\n",
      "NRE Token Lengths: Porter 15 Lancaster 15\n"
     ]
    }
   ],
   "execution_count": 206
  },
  {
   "cell_type": "markdown",
   "metadata": {},
   "source": "The output shows there is some reduction to the base token with Lancaster being more aggressive as expected i.e. your vs yo, software vs softw. There is no change to the unique token count. Due to the small size token size for each sample email it is reductive to apply stemming in this circumstance. "
  },
  {
   "cell_type": "code",
   "metadata": {
    "ExecuteTime": {
     "end_time": "2024-09-09T16:35:10.137714Z",
     "start_time": "2024-09-09T16:35:10.133022Z"
    }
   },
   "source": [
    "# Apply lemmatization, observe token changes and unique token count\n",
    "\n",
    "wnl = nltk.WordNetLemmatizer()\n",
    "\n",
    "# re\n",
    "re_lem = [wnl.lemmatize(t) for t in pp_re_tree]\n",
    "print(\"RE Lemmatization:\", re_lem)\n",
    "print(len(set(re_lem)))\n",
    "\n",
    "# Line break\n",
    "print(\"\\n-------------------\\n\")\n",
    "\n",
    "# nre \n",
    "nre_lem = [wnl.lemmatize(t) for t in pp_nre_tree]\n",
    "print(\"NRE Lemmatization:\", nre_lem)\n",
    "print(len(set(nre_lem)))"
   ],
   "outputs": [
    {
     "name": "stdout",
     "output_type": "stream",
     "text": [
      "RE Lemmatization: ['unfortunately', 'patientslikeme', 'llc', 'ha', 'decided', 'not', 'to', 'move', 'forward', 'with', 'your', 'full', 'stack', 'software', 'engineer', 'application', 'at', 'this', 'time']\n",
      "19\n",
      "\n",
      "-------------------\n",
      "\n",
      "NRE Lemmatization: ['hi', 'seth', 'your', 'financial', 'statement', 'for', 'jan', '16', '2021', 'through', 'feb', '15', '2021', 'ha', 'been', 'generated']\n",
      "15\n"
     ]
    }
   ],
   "execution_count": 207
  },
  {
   "cell_type": "markdown",
   "metadata": {},
   "source": "The only change is the token \"has\" in the NRE email being reduced to a root form \"ha\" to represent \"have\". This suggests that the tokens in both sample emails already exist in their root form. There was also no change to the unique token count. Lemmatization proves to be just as reductive as stemming, offering limited value for the selected email samples."
  },
  {
   "metadata": {},
   "cell_type": "markdown",
   "source": "I will now apply stop words and POS tagging. I have concerns that removing the stop words may result in some intelligible results so will construct POS tagging with and without stop words for comparison"
  },
  {
   "cell_type": "code",
   "metadata": {
    "ExecuteTime": {
     "end_time": "2024-09-09T16:35:10.276975Z",
     "start_time": "2024-09-09T16:35:10.269644Z"
    }
   },
   "source": [
    "from nltk import pos_tag\n",
    "\n",
    "# remove stopwords\n",
    "from nltk.corpus import stopwords\n",
    "stopwords = stopwords.words('english')\n",
    "stop_re_tree  = [w for w in pp_re_tree if w not in stopwords]\n",
    "stop_nre_tree = [w for w in pp_nre_tree if w not in stopwords]\n",
    "\n",
    "# POS tagging with stop words\n",
    "stop_pos_re_tree = pos_tag(stop_re_tree)\n",
    "stop_pos_nre_tree = pos_tag(stop_nre_tree)\n",
    "\n",
    "# POS tagging without stop words\n",
    "pos_re_tree = pos_tag(pp_re_tree)\n",
    "pos_nre_tree = pos_tag(pp_nre_tree)\n",
    "\n",
    "print(\"POS tagging without stop words\")\n",
    "print(stop_pos_re_tree)\n",
    "print(stop_pos_nre_tree)\n",
    "print('\\n')\n",
    "print(\"POS tagging with stop words\")\n",
    "print(pos_re_tree)\n",
    "print(pos_nre_tree)"
   ],
   "outputs": [
    {
     "name": "stdout",
     "output_type": "stream",
     "text": [
      "POS tagging without stop words\n",
      "[('unfortunately', 'RB'), ('patientslikeme', 'JJ'), ('llc', 'NN'), ('decided', 'VBD'), ('move', 'NN'), ('forward', 'RB'), ('full', 'JJ'), ('stack', 'NN'), ('software', 'NN'), ('engineer', 'VB'), ('application', 'NN'), ('time', 'NN')]\n",
      "[('hi', 'NN'), ('seth', 'VBZ'), ('financial', 'JJ'), ('statement', 'NN'), ('jan', 'NN'), ('16', 'CD'), ('2021', 'CD'), ('feb', 'NN'), ('15', 'CD'), ('2021', 'CD'), ('generated', 'VBD')]\n",
      "\n",
      "\n",
      "POS tagging with stop words\n",
      "[('unfortunately', 'RB'), ('patientslikeme', 'JJ'), ('llc', 'NN'), ('has', 'VBZ'), ('decided', 'VBN'), ('not', 'RB'), ('to', 'TO'), ('move', 'VB'), ('forward', 'RB'), ('with', 'IN'), ('your', 'PRP$'), ('full', 'JJ'), ('stack', 'NN'), ('software', 'NN'), ('engineer', 'NN'), ('application', 'NN'), ('at', 'IN'), ('this', 'DT'), ('time', 'NN')]\n",
      "[('hi', 'NN'), ('seth', 'VB'), ('your', 'PRP$'), ('financial', 'JJ'), ('statement', 'NN'), ('for', 'IN'), ('jan', 'NN'), ('16', 'CD'), ('2021', 'CD'), ('through', 'IN'), ('feb', 'NN'), ('15', 'CD'), ('2021', 'CD'), ('has', 'VBZ'), ('been', 'VBN'), ('generated', 'VBN')]\n"
     ]
    }
   ],
   "execution_count": 208
  },
  {
   "metadata": {},
   "cell_type": "markdown",
   "source": [
    "Key points from RE:\n",
    "\n",
    "- patientslikeme incorrectly identified as an adjective rather than a noun\n",
    "- full stack split between adjective and noun, which is gramatically true but \"full stack software developer\" should be considered together with \"application\" which we'll consider when building the noun phrase\n",
    "- The general structure is descriptive noun / repeating verb words / conjunction / repeating noun words / conjunction / noun\n",
    "\n",
    "Key points from NRE:\n",
    "\n",
    "- Straight away we can see an issue with Seth's name being identified as a verb in both contexts\n",
    "- We have the introduction of cardinal digits (numbers, CD) which may need their own categorisation\n",
    "- The general structure is noun / possessive descriptive noun / conjuction / named number / conjuction / named number / repeating verbs "
   ]
  },
  {
   "metadata": {},
   "cell_type": "markdown",
   "source": [
    "Now we need to construct a parser that can correctly identify the gramatical structure of our emails. The parser is built as follows:\n",
    "\n",
    "- A noun phrase is an optional determiner, zero or more repeating adjectives, zero or more repeating nouns and zero or more numbers\n",
    "- A prepopsition is a preposition\n",
    "- A verb is any verb (past tense, 3rd person, base form etc)\n",
    "- A prepositional phrase is a preposition and a noun phrase\n",
    "- A verb phrase is zero or more repeating verbs of any type and an optional zero or more repeating adverbs of any type  "
   ]
  },
  {
   "cell_type": "code",
   "metadata": {
    "ExecuteTime": {
     "end_time": "2024-09-09T16:35:10.327967Z",
     "start_time": "2024-09-09T16:35:10.322354Z"
    }
   },
   "source": [
    "from nltk import pos_tag, word_tokenize, RegexpParser\n",
    "from nltk.tree.tree import Tree\n",
    "\n",
    "# define chunker \n",
    "chunker = RegexpParser(\"\"\"\n",
    "                    NP: {<DT>?<JJ>*<NN>*<CD>*}    # To extract Noun Phrases\n",
    "                    P: {<IN>}                     # To extract Prepositions\n",
    "                    V: {<V.*>}                    # To extract Verbs\n",
    "                    PP: {<P> <NP>}                # To extract Prepositional Phrases\n",
    "                    VP: {<V>*<RB*>?<NP|PP>*}              # To extract Verb Phrases\n",
    "                    \"\"\")\n",
    "\n",
    "# print RE POS only\n",
    "output = chunker.parse(pos_re_tree)\n",
    "print(\"RE POS Only\\n\", output)\n",
    "\n",
    "# Line break\n",
    "print(\"\\n-------------------\\n\")\n",
    "\n",
    "# print RE POS & stopwords removed\n",
    "output = chunker.parse(stop_pos_re_tree)\n",
    "print(\"RE POS without Stopwords\\n\", output)\n",
    "\n",
    "# Line break\n",
    "print(\"\\n-------------------\\n\")\n",
    "\n",
    "# print NRE POS only\n",
    "output = chunker.parse(pos_nre_tree)\n",
    "print(\"NRE POS Only\\n\", output)\n",
    "\n",
    "# Line break\n",
    "print(\"\\n-------------------\\n\")\n",
    "\n",
    "# print NRE POS & stopwords removed\n",
    "output = chunker.parse(stop_pos_nre_tree)\n",
    "print(\"NRE POS without Stopwords\\n\", output)\n",
    "\n",
    "# Code to visualise the tree, uncomment to use\n",
    "# output_re.draw()"
   ],
   "outputs": [
    {
     "name": "stdout",
     "output_type": "stream",
     "text": [
      "RE POS Only\n",
      " (S\n",
      "  (VP unfortunately/RB (NP patientslikeme/JJ llc/NN))\n",
      "  (VP (V has/VBZ) (V decided/VBN) not/RB)\n",
      "  to/TO\n",
      "  (VP (V move/VB) forward/RB)\n",
      "  (P with/IN)\n",
      "  your/PRP$\n",
      "  (VP\n",
      "    (NP full/JJ stack/NN software/NN engineer/NN application/NN)\n",
      "    (PP (P at/IN) (NP this/DT time/NN))))\n",
      "\n",
      "-------------------\n",
      "\n",
      "RE POS without Stopwords\n",
      " (S\n",
      "  (VP unfortunately/RB (NP patientslikeme/JJ llc/NN))\n",
      "  (VP (V decided/VBD) (NP move/NN))\n",
      "  (VP forward/RB (NP full/JJ stack/NN software/NN))\n",
      "  (VP (V engineer/VB) (NP application/NN time/NN)))\n",
      "\n",
      "-------------------\n",
      "\n",
      "NRE POS Only\n",
      " (S\n",
      "  (VP (NP hi/NN))\n",
      "  (VP (V seth/VB))\n",
      "  your/PRP$\n",
      "  (VP\n",
      "    (NP financial/JJ statement/NN)\n",
      "    (PP (P for/IN) (NP jan/NN 16/CD 2021/CD))\n",
      "    (PP (P through/IN) (NP feb/NN 15/CD 2021/CD)))\n",
      "  (VP (V has/VBZ) (V been/VBN) (V generated/VBN)))\n",
      "\n",
      "-------------------\n",
      "\n",
      "NRE POS without Stopwords\n",
      " (S\n",
      "  (VP (NP hi/NN))\n",
      "  (VP\n",
      "    (V seth/VBZ)\n",
      "    (NP financial/JJ statement/NN jan/NN 16/CD 2021/CD)\n",
      "    (NP feb/NN 15/CD 2021/CD))\n",
      "  (VP (V generated/VBD)))\n"
     ]
    }
   ],
   "execution_count": 209
  },
  {
   "metadata": {},
   "cell_type": "markdown",
   "source": [
    "Observations\n",
    "\n",
    "The parser was constructed observing the full sentence without stop word removal which chunks the email in a logical manner. This has affected how tokens are treated when stopwords arent applied. For example engineer is considered a verb rather than a noun when stop words are removed, possibly by the removal of \"with your\" indicaiting that it's a possessive word rather than a doing word \"engineering\". The removal of the stopwords in this email loses the meaning of the email, without the word \"unfortunatley\" it could be read as an acceptance email. \n",
    "\n",
    "Apart from the incorrect classification of Seth as a verb, the gramatical structure for both NRE with and without stop words seems clear and furthermore the email with the removal of stop words still makes sense."
   ]
  },
  {
   "cell_type": "markdown",
   "metadata": {},
   "source": "Finally I will conduct sentiment analysis on the overall dataset using Vader and RoBERTa"
  },
  {
   "cell_type": "code",
   "metadata": {
    "ExecuteTime": {
     "end_time": "2024-09-09T16:35:10.412393Z",
     "start_time": "2024-09-09T16:35:10.364812Z"
    }
   },
   "source": [
    "# pre process the dataset \n",
    "df1 = pd.read_csv('Rejection Data - Sheet1.csv')\n",
    "\n",
    "# convert email text to lowercase\n",
    "df1.Email = df1.Email.apply(lambda x: x.lower())\n",
    "\n",
    "# remove punctuation\n",
    "df1.Email = df1.Email.apply(lambda x: x.translate(str.maketrans('','', string.punctuation)))\n",
    "\n",
    "# remove numbers\n",
    "df1.Email = df1.Email.apply(lambda x: x.translate(str.maketrans('','','1234567890')))\n",
    "\n",
    "# remove newline tags\n",
    "df1.Email = df1.Email.apply(lambda x: x.translate(str.maketrans('\\n',' ')))\n",
    "\n",
    "# add tokens column\n",
    "df1['Tokens'] = [nltk.word_tokenize(e) for e in df1.Email]\n",
    "\n",
    "# add length column\n",
    "df1['Length'] = df1['Tokens'].apply(len)\n",
    "\n",
    "# add lexical richness column\n",
    "df1['LexRich'] = df1['Tokens'].apply(lambda x: len(set(x)) / len(x))\n",
    "\n",
    "# add column for vader\n",
    "df1['Vader'] = ''\n",
    "\n",
    "df1.tail()"
   ],
   "outputs": [
    {
     "data": {
      "text/plain": [
       "                                                 Email      Status  \\\n",
       "124   starting march   ebay will no longer offer se...  not_reject   \n",
       "125  hi seth  i want to make finding a great remote...  not_reject   \n",
       "126  hello seth  i just wanted to take a second to ...  not_reject   \n",
       "127  your free youmail plan includes  inapp transcr...  not_reject   \n",
       "128   support resources for developers at all level...  not_reject   \n",
       "\n",
       "                                                Tokens  Length   LexRich Vader  \n",
       "124  [starting, march, ebay, will, no, longer, offe...     119  0.563025        \n",
       "125  [hi, seth, i, want, to, make, finding, a, grea...      77  0.753247        \n",
       "126  [hello, seth, i, just, wanted, to, take, a, se...      51  0.823529        \n",
       "127  [your, free, youmail, plan, includes, inapp, t...      30  0.800000        \n",
       "128  [support, resources, for, developers, at, all,...     127  0.716535        "
      ],
      "text/html": [
       "<div>\n",
       "<style scoped>\n",
       "    .dataframe tbody tr th:only-of-type {\n",
       "        vertical-align: middle;\n",
       "    }\n",
       "\n",
       "    .dataframe tbody tr th {\n",
       "        vertical-align: top;\n",
       "    }\n",
       "\n",
       "    .dataframe thead th {\n",
       "        text-align: right;\n",
       "    }\n",
       "</style>\n",
       "<table border=\"1\" class=\"dataframe\">\n",
       "  <thead>\n",
       "    <tr style=\"text-align: right;\">\n",
       "      <th></th>\n",
       "      <th>Email</th>\n",
       "      <th>Status</th>\n",
       "      <th>Tokens</th>\n",
       "      <th>Length</th>\n",
       "      <th>LexRich</th>\n",
       "      <th>Vader</th>\n",
       "    </tr>\n",
       "  </thead>\n",
       "  <tbody>\n",
       "    <tr>\n",
       "      <th>124</th>\n",
       "      <td>starting march   ebay will no longer offer se...</td>\n",
       "      <td>not_reject</td>\n",
       "      <td>[starting, march, ebay, will, no, longer, offe...</td>\n",
       "      <td>119</td>\n",
       "      <td>0.563025</td>\n",
       "      <td></td>\n",
       "    </tr>\n",
       "    <tr>\n",
       "      <th>125</th>\n",
       "      <td>hi seth  i want to make finding a great remote...</td>\n",
       "      <td>not_reject</td>\n",
       "      <td>[hi, seth, i, want, to, make, finding, a, grea...</td>\n",
       "      <td>77</td>\n",
       "      <td>0.753247</td>\n",
       "      <td></td>\n",
       "    </tr>\n",
       "    <tr>\n",
       "      <th>126</th>\n",
       "      <td>hello seth  i just wanted to take a second to ...</td>\n",
       "      <td>not_reject</td>\n",
       "      <td>[hello, seth, i, just, wanted, to, take, a, se...</td>\n",
       "      <td>51</td>\n",
       "      <td>0.823529</td>\n",
       "      <td></td>\n",
       "    </tr>\n",
       "    <tr>\n",
       "      <th>127</th>\n",
       "      <td>your free youmail plan includes  inapp transcr...</td>\n",
       "      <td>not_reject</td>\n",
       "      <td>[your, free, youmail, plan, includes, inapp, t...</td>\n",
       "      <td>30</td>\n",
       "      <td>0.800000</td>\n",
       "      <td></td>\n",
       "    </tr>\n",
       "    <tr>\n",
       "      <th>128</th>\n",
       "      <td>support resources for developers at all level...</td>\n",
       "      <td>not_reject</td>\n",
       "      <td>[support, resources, for, developers, at, all,...</td>\n",
       "      <td>127</td>\n",
       "      <td>0.716535</td>\n",
       "      <td></td>\n",
       "    </tr>\n",
       "  </tbody>\n",
       "</table>\n",
       "</div>"
      ]
     },
     "execution_count": 210,
     "metadata": {},
     "output_type": "execute_result"
    }
   ],
   "execution_count": 210
  },
  {
   "metadata": {},
   "cell_type": "markdown",
   "source": "First we add the VADER sentiment scores to the dataset"
  },
  {
   "cell_type": "code",
   "metadata": {
    "ExecuteTime": {
     "end_time": "2024-09-09T16:35:10.556888Z",
     "start_time": "2024-09-09T16:35:10.468744Z"
    }
   },
   "source": [
    "# detect the sentiment using Vader\n",
    "from nltk.sentiment.vader import SentimentIntensityAnalyzer\n",
    "sid = SentimentIntensityAnalyzer()\n",
    "\n",
    "# compute sentiment tags for vader column\n",
    "for i, token in df1.iterrows():\n",
    "    ss = sid.polarity_scores(token['Email'])\n",
    "    if ss['compound'] >= 0.05:\n",
    "        v_lab = 'pos'\n",
    "    elif ss['compound'] <= -0.05:\n",
    "        v_lab = 'neg'\n",
    "    else:\n",
    "        v_lab = 'neutral'\n",
    "    df1.at[i, 'Vader'] = v_lab\n",
    "\n",
    "df1.head()"
   ],
   "outputs": [
    {
     "data": {
      "text/plain": [
       "                                               Email  Status  \\\n",
       "0  thank you for applying to the junior software ...  reject   \n",
       "1  thank you for your interest in the train to hi...  reject   \n",
       "2  eth   thank you for your interest in exyn and ...  reject   \n",
       "3  thank you for your interest in the software en...  reject   \n",
       "4  hi seth  thank you for your interest in pathai...  reject   \n",
       "\n",
       "                                              Tokens  Length   LexRich  \\\n",
       "0  [thank, you, for, applying, to, the, junior, s...      35  0.857143   \n",
       "1  [thank, you, for, your, interest, in, the, tra...      40  0.825000   \n",
       "2  [eth, thank, you, for, your, interest, in, exy...     125  0.680000   \n",
       "3  [thank, you, for, your, interest, in, the, sof...      43  0.720930   \n",
       "4  [hi, seth, thank, you, for, your, interest, in...      70  0.728571   \n",
       "\n",
       "     Vader  \n",
       "0  neutral  \n",
       "1      pos  \n",
       "2      pos  \n",
       "3      pos  \n",
       "4      pos  "
      ],
      "text/html": [
       "<div>\n",
       "<style scoped>\n",
       "    .dataframe tbody tr th:only-of-type {\n",
       "        vertical-align: middle;\n",
       "    }\n",
       "\n",
       "    .dataframe tbody tr th {\n",
       "        vertical-align: top;\n",
       "    }\n",
       "\n",
       "    .dataframe thead th {\n",
       "        text-align: right;\n",
       "    }\n",
       "</style>\n",
       "<table border=\"1\" class=\"dataframe\">\n",
       "  <thead>\n",
       "    <tr style=\"text-align: right;\">\n",
       "      <th></th>\n",
       "      <th>Email</th>\n",
       "      <th>Status</th>\n",
       "      <th>Tokens</th>\n",
       "      <th>Length</th>\n",
       "      <th>LexRich</th>\n",
       "      <th>Vader</th>\n",
       "    </tr>\n",
       "  </thead>\n",
       "  <tbody>\n",
       "    <tr>\n",
       "      <th>0</th>\n",
       "      <td>thank you for applying to the junior software ...</td>\n",
       "      <td>reject</td>\n",
       "      <td>[thank, you, for, applying, to, the, junior, s...</td>\n",
       "      <td>35</td>\n",
       "      <td>0.857143</td>\n",
       "      <td>neutral</td>\n",
       "    </tr>\n",
       "    <tr>\n",
       "      <th>1</th>\n",
       "      <td>thank you for your interest in the train to hi...</td>\n",
       "      <td>reject</td>\n",
       "      <td>[thank, you, for, your, interest, in, the, tra...</td>\n",
       "      <td>40</td>\n",
       "      <td>0.825000</td>\n",
       "      <td>pos</td>\n",
       "    </tr>\n",
       "    <tr>\n",
       "      <th>2</th>\n",
       "      <td>eth   thank you for your interest in exyn and ...</td>\n",
       "      <td>reject</td>\n",
       "      <td>[eth, thank, you, for, your, interest, in, exy...</td>\n",
       "      <td>125</td>\n",
       "      <td>0.680000</td>\n",
       "      <td>pos</td>\n",
       "    </tr>\n",
       "    <tr>\n",
       "      <th>3</th>\n",
       "      <td>thank you for your interest in the software en...</td>\n",
       "      <td>reject</td>\n",
       "      <td>[thank, you, for, your, interest, in, the, sof...</td>\n",
       "      <td>43</td>\n",
       "      <td>0.720930</td>\n",
       "      <td>pos</td>\n",
       "    </tr>\n",
       "    <tr>\n",
       "      <th>4</th>\n",
       "      <td>hi seth  thank you for your interest in pathai...</td>\n",
       "      <td>reject</td>\n",
       "      <td>[hi, seth, thank, you, for, your, interest, in...</td>\n",
       "      <td>70</td>\n",
       "      <td>0.728571</td>\n",
       "      <td>pos</td>\n",
       "    </tr>\n",
       "  </tbody>\n",
       "</table>\n",
       "</div>"
      ]
     },
     "execution_count": 211,
     "metadata": {},
     "output_type": "execute_result"
    }
   ],
   "execution_count": 211
  },
  {
   "metadata": {},
   "cell_type": "markdown",
   "source": "Next we add the RoBERTa model"
  },
  {
   "cell_type": "code",
   "metadata": {
    "ExecuteTime": {
     "end_time": "2024-09-09T16:35:25.670877Z",
     "start_time": "2024-09-09T16:35:10.603311Z"
    }
   },
   "source": [
    "# detect the sentiment using Roberta\n",
    "\n",
    "from transformers import AutoTokenizer\n",
    "from transformers import AutoModelForSequenceClassification\n",
    "from scipy.special import softmax\n",
    "\n",
    "MODEL = f\"cardiffnlp/twitter-roberta-base-sentiment\"\n",
    "tokenizer = AutoTokenizer.from_pretrained(MODEL)\n",
    "model = AutoModelForSequenceClassification.from_pretrained(MODEL)\n",
    "\n",
    "def roberta_polarity_scores(example):\n",
    "    #adding truncation parameter due to text being longer than this model can handle\n",
    "    encoded_text = tokenizer(example, return_tensors='pt', truncation=True, max_length=512) \n",
    "    output = model(**encoded_text)\n",
    "    scores = output[0][0].detach().numpy()\n",
    "    scores = softmax(scores)\n",
    "    scores_dict = {\n",
    "        'roberta_neg' : scores[0],\n",
    "        'roberta_neu' : scores[1],\n",
    "        'roberta_pos' : scores[2]\n",
    "    }\n",
    "    return scores_dict\n",
    "\n",
    "# compute sentiment tags for Roberta column\n",
    "for i, token in df1.iterrows():\n",
    "    rs = roberta_polarity_scores(token['Email'])\n",
    "    \n",
    "    # Determine the sentiment label\n",
    "    if rs['roberta_pos'] > rs['roberta_neg'] and rs['roberta_pos'] > rs['roberta_neu']:\n",
    "        r_lab = 'pos'\n",
    "    elif rs['roberta_neg'] > rs['roberta_pos'] and rs['roberta_neg'] > rs['roberta_neu']:\n",
    "        r_lab = 'neg'\n",
    "    else:\n",
    "        r_lab = 'neutral'\n",
    "    \n",
    "    df1.at[i, 'Roberta'] = r_lab"
   ],
   "outputs": [
    {
     "name": "stderr",
     "output_type": "stream",
     "text": [
      "C:\\Users\\ellyp\\AI\\Practice Projects\\venv\\Lib\\site-packages\\transformers\\tokenization_utils_base.py:1601: FutureWarning: `clean_up_tokenization_spaces` was not set. It will be set to `True` by default. This behavior will be depracted in transformers v4.45, and will be then set to `False` by default. For more details check this issue: https://github.com/huggingface/transformers/issues/31884\n",
      "  warnings.warn(\n"
     ]
    }
   ],
   "execution_count": 212
  },
  {
   "cell_type": "code",
   "metadata": {
    "ExecuteTime": {
     "end_time": "2024-09-09T16:35:25.722919Z",
     "start_time": "2024-09-09T16:35:25.711457Z"
    }
   },
   "source": [
    "df1.head()"
   ],
   "outputs": [
    {
     "data": {
      "text/plain": [
       "                                               Email  Status  \\\n",
       "0  thank you for applying to the junior software ...  reject   \n",
       "1  thank you for your interest in the train to hi...  reject   \n",
       "2  eth   thank you for your interest in exyn and ...  reject   \n",
       "3  thank you for your interest in the software en...  reject   \n",
       "4  hi seth  thank you for your interest in pathai...  reject   \n",
       "\n",
       "                                              Tokens  Length   LexRich  \\\n",
       "0  [thank, you, for, applying, to, the, junior, s...      35  0.857143   \n",
       "1  [thank, you, for, your, interest, in, the, tra...      40  0.825000   \n",
       "2  [eth, thank, you, for, your, interest, in, exy...     125  0.680000   \n",
       "3  [thank, you, for, your, interest, in, the, sof...      43  0.720930   \n",
       "4  [hi, seth, thank, you, for, your, interest, in...      70  0.728571   \n",
       "\n",
       "     Vader  Roberta  \n",
       "0  neutral  neutral  \n",
       "1      pos      pos  \n",
       "2      pos      pos  \n",
       "3      pos      pos  \n",
       "4      pos      pos  "
      ],
      "text/html": [
       "<div>\n",
       "<style scoped>\n",
       "    .dataframe tbody tr th:only-of-type {\n",
       "        vertical-align: middle;\n",
       "    }\n",
       "\n",
       "    .dataframe tbody tr th {\n",
       "        vertical-align: top;\n",
       "    }\n",
       "\n",
       "    .dataframe thead th {\n",
       "        text-align: right;\n",
       "    }\n",
       "</style>\n",
       "<table border=\"1\" class=\"dataframe\">\n",
       "  <thead>\n",
       "    <tr style=\"text-align: right;\">\n",
       "      <th></th>\n",
       "      <th>Email</th>\n",
       "      <th>Status</th>\n",
       "      <th>Tokens</th>\n",
       "      <th>Length</th>\n",
       "      <th>LexRich</th>\n",
       "      <th>Vader</th>\n",
       "      <th>Roberta</th>\n",
       "    </tr>\n",
       "  </thead>\n",
       "  <tbody>\n",
       "    <tr>\n",
       "      <th>0</th>\n",
       "      <td>thank you for applying to the junior software ...</td>\n",
       "      <td>reject</td>\n",
       "      <td>[thank, you, for, applying, to, the, junior, s...</td>\n",
       "      <td>35</td>\n",
       "      <td>0.857143</td>\n",
       "      <td>neutral</td>\n",
       "      <td>neutral</td>\n",
       "    </tr>\n",
       "    <tr>\n",
       "      <th>1</th>\n",
       "      <td>thank you for your interest in the train to hi...</td>\n",
       "      <td>reject</td>\n",
       "      <td>[thank, you, for, your, interest, in, the, tra...</td>\n",
       "      <td>40</td>\n",
       "      <td>0.825000</td>\n",
       "      <td>pos</td>\n",
       "      <td>pos</td>\n",
       "    </tr>\n",
       "    <tr>\n",
       "      <th>2</th>\n",
       "      <td>eth   thank you for your interest in exyn and ...</td>\n",
       "      <td>reject</td>\n",
       "      <td>[eth, thank, you, for, your, interest, in, exy...</td>\n",
       "      <td>125</td>\n",
       "      <td>0.680000</td>\n",
       "      <td>pos</td>\n",
       "      <td>pos</td>\n",
       "    </tr>\n",
       "    <tr>\n",
       "      <th>3</th>\n",
       "      <td>thank you for your interest in the software en...</td>\n",
       "      <td>reject</td>\n",
       "      <td>[thank, you, for, your, interest, in, the, sof...</td>\n",
       "      <td>43</td>\n",
       "      <td>0.720930</td>\n",
       "      <td>pos</td>\n",
       "      <td>pos</td>\n",
       "    </tr>\n",
       "    <tr>\n",
       "      <th>4</th>\n",
       "      <td>hi seth  thank you for your interest in pathai...</td>\n",
       "      <td>reject</td>\n",
       "      <td>[hi, seth, thank, you, for, your, interest, in...</td>\n",
       "      <td>70</td>\n",
       "      <td>0.728571</td>\n",
       "      <td>pos</td>\n",
       "      <td>pos</td>\n",
       "    </tr>\n",
       "  </tbody>\n",
       "</table>\n",
       "</div>"
      ]
     },
     "execution_count": 213,
     "metadata": {},
     "output_type": "execute_result"
    }
   ],
   "execution_count": 213
  },
  {
   "cell_type": "code",
   "metadata": {
    "ExecuteTime": {
     "end_time": "2024-09-09T16:35:25.771719Z",
     "start_time": "2024-09-09T16:35:25.762379Z"
    }
   },
   "source": [
    "# NRE sentiment counts\n",
    "NRE = df1[df1['Status'] == 'not_reject']\n",
    "vader_NRE_sentiment = NRE['Vader'].value_counts()\n",
    "roberta_NRE_sentiment = NRE['Roberta'].value_counts()\n",
    "\n",
    "# RE sentiment counts\n",
    "RE = df1[df1['Status'] == 'reject']\n",
    "vader_RE_sentiment = RE['Vader'].value_counts()\n",
    "roberta_RE_sentiment = RE['Roberta'].value_counts()\n",
    "\n",
    "\n",
    "print(\"\\nSentiment Counts for NRE:\")\n",
    "print(vader_NRE_sentiment)\n",
    "print(roberta_NRE_sentiment)\n",
    "\n",
    "print(\"\\nSentiment Counts for RE:\")\n",
    "print(vader_RE_sentiment)\n",
    "print(roberta_RE_sentiment)\n"
   ],
   "outputs": [
    {
     "name": "stdout",
     "output_type": "stream",
     "text": [
      "\n",
      "Sentiment Counts for NRE:\n",
      "Vader\n",
      "pos        58\n",
      "neutral     4\n",
      "neg         2\n",
      "Name: count, dtype: int64\n",
      "Roberta\n",
      "pos        37\n",
      "neutral    25\n",
      "neg         2\n",
      "Name: count, dtype: int64\n",
      "\n",
      "Sentiment Counts for RE:\n",
      "Vader\n",
      "pos        54\n",
      "neutral     8\n",
      "neg         3\n",
      "Name: count, dtype: int64\n",
      "Roberta\n",
      "pos        52\n",
      "neg         8\n",
      "neutral     5\n",
      "Name: count, dtype: int64\n"
     ]
    }
   ],
   "execution_count": 214
  },
  {
   "cell_type": "markdown",
   "metadata": {},
   "source": [
    "Lets visualise the data"
   ]
  },
  {
   "cell_type": "code",
   "metadata": {
    "ExecuteTime": {
     "end_time": "2024-09-09T16:35:26.059930Z",
     "start_time": "2024-09-09T16:35:25.891762Z"
    }
   },
   "source": [
    "import seaborn as sns\n",
    "\n",
    "# create df from the sentiment counts\n",
    "sentiment_counts = pd.DataFrame({\n",
    "    'VADER_NRE': vader_NRE_sentiment,\n",
    "    'RoBERTa_NRE': roberta_NRE_sentiment,\n",
    "    'VADER_RE': vader_RE_sentiment,\n",
    "    'RoBERTa_RE': roberta_RE_sentiment\n",
    "})\n",
    "\n",
    "# plot as a heatmap\n",
    "plt.figure(figsize=(8, 4))\n",
    "sns.heatmap(sentiment_counts, annot=True, cmap=sns.cubehelix_palette(as_cmap=True))\n",
    "plt.title('Sentiment Counts by Category and Model')\n",
    "plt.xlabel('Sentiment Model')\n",
    "plt.ylabel('Category')\n",
    "plt.show()"
   ],
   "outputs": [
    {
     "data": {
      "text/plain": [
       "<Figure size 800x400 with 2 Axes>"
      ],
      "image/png": "[encoded data removed]"
     },
     "metadata": {},
     "output_type": "display_data"
    }
   ],
   "execution_count": 215
  },
  {
   "cell_type": "markdown",
   "metadata": {},
   "source": "The heatmap shows that the rejection emails semtiment is considered positive by both models, which would be expected due to the professional nature that emails need to have. RoBERTa was able to pick up on more negative undertones as opposed to Vader in the rejection emails. RoBERTa has a significantly reduced postive sentiment allocation for the non-rejection emails compared to Vader and appears to detect more neutral sentiments instead, with the same negative sentiment scores for both models in the non-rejection emails. We'll now observe some of the emails in the sentiment categories of each model."
  },
  {
   "cell_type": "code",
   "metadata": {
    "ExecuteTime": {
     "end_time": "2024-09-09T16:35:26.091296Z",
     "start_time": "2024-09-09T16:35:26.086083Z"
    }
   },
   "source": [
    "# view the emails categorised as neutral - NRE Vader\n",
    "vader_neutral_emails_nre = df1[(df1['Status'] == 'not_reject') & (df1['Vader'] == 'neutral')]['Email']\n",
    "for idx, email in vader_neutral_emails_nre.items():\n",
    "    print(f\"Email {idx}:\\n{email}\\n\")"
   ],
   "outputs": [
    {
     "name": "stdout",
     "output_type": "stream",
     "text": [
      "Email 65:\n",
      "seth polyniak  as part of your application to entry level back end developer  we recently invited you to complete our coding assessment  we wanted to let you know that your responses have been received and are being considered along with other information from your application process to determine next steps these next steps may include being invited to complete another assessment or invitation to an interview  please note that if you did not just complete an assessment this means that your responses were returned from a prior application to ibm and completion of the same assessment as your assessment responses remain valid for  months there is no need to retake this assessment at this time  ibm assessment team\n",
      "\n",
      "Email 98:\n",
      "hi seth your package has been delivered  how was your delivery\n",
      "\n",
      "Email 101:\n",
      "hi seth rate your experience with the seller makerhawkus\n",
      "\n",
      "Email 119:\n",
      "hi seth  your financial statement for jan   through feb   has been generated \n",
      "\n"
     ]
    }
   ],
   "execution_count": 216
  },
  {
   "metadata": {
    "ExecuteTime": {
     "end_time": "2024-09-09T16:35:26.140794Z",
     "start_time": "2024-09-09T16:35:26.134235Z"
    }
   },
   "cell_type": "code",
   "source": [
    "# view the emails categorised as neutral - NRE RoBERTa\n",
    "roberta_neutral_emails_nre = df1[(df1['Status'] == 'not_reject') & (df1['Roberta'] == 'neutral')]['Email']\n",
    "for idx, email in roberta_neutral_emails_nre.items():\n",
    "    print(f\"Email {idx}:\\n{email}\\n\")"
   ],
   "outputs": [
    {
     "name": "stdout",
     "output_type": "stream",
     "text": [
      "Email 65:\n",
      "seth polyniak  as part of your application to entry level back end developer  we recently invited you to complete our coding assessment  we wanted to let you know that your responses have been received and are being considered along with other information from your application process to determine next steps these next steps may include being invited to complete another assessment or invitation to an interview  please note that if you did not just complete an assessment this means that your responses were returned from a prior application to ibm and completion of the same assessment as your assessment responses remain valid for  months there is no need to retake this assessment at this time  ibm assessment team\n",
      "\n",
      "Email 70:\n",
      "ello seth  just one more step before you get started  you must confirm your identity using the onetime pass code note  this code will expire in  minutes  sincerely  ust us recruiting team\n",
      "\n",
      "Email 82:\n",
      "an account has been created for you on our company career site you can access our site using your personal login information\n",
      "\n",
      "Email 84:\n",
      "hank you for your interest in careers at mpowersscom your email was received and is now being reviewed by our staff  if you require immediate assistance please feel free to call mpower software services at  or visit wwwmpowersscomlocations to contact the office closest to you \n",
      "\n",
      "Email 85:\n",
      "my name is pawan jaiswal and im a recruiter at ampcus an consulting and staffing company i am contacting you because you are an experienced professional who appears to be interested in investigating the current job market and job opportunities we currently have an opportunity with one of our direct clients that you might be interested in  title software development engineer iii location alpharetta ga     job ref id  rate hr on w  job description  mobile application developer  digital channels   developer – general the professional services ps team is responsible for the delivery of digital online and mobile banking solutions to our financial institution clients as a senior software developer in the ps organization you will be expected to contribute to all aspects of project delivery with specific focus on the development of enhancements and extension to our products   responsibilities o complete all assignments by the requested due date any exceptions to the due date should be approved by the project technical lead in advance o accurately update tfs or similar tool for all tasks  bugs  pbi’s with correct status and time entries o discuss with the project technical leadproject manager any concerns or questions about tasks or other projectrelated expectations o identify  resolve  escalate any issues impeding success with the project technical leadproject manager and if required to line manager o ensure the completed work are aligned with the feature requirements as documented in the specification documents with minimal rework required    skillsexperience rd party multisystem integration experience  years handson software development experience designing writing debugging and testing object oriented code of which  years working on ecommerce or efinance applications  years working on high volume transactional systems an advanced understanding of common computer programming algorithms an advanced understanding of object orientated design principals a solid understanding of software development patterns and their application in several programming languages an advanced understanding of coding techniques which contribute to the reliability maintainability readability simplicity performance and testability of software a solid understanding of it environments including networking server technologies databases security and performance bachelor’s degree or tertiary qualification in information technology or computer sciences or similar experienced in the daytoday practicalities of software development lifecycles such as scrum waterfall or the rational unified process\n",
      "\n",
      "Email 89:\n",
      " jobs posted on  job boards  jr software engineer jobs software developer  android apps  esri  portland me  posted  days ago on myjobhelper senior software engineer net  garmin  yarmouth me  posted  days ago on the internet scientific software engineer • new  northeastern university  portland me  posted  hours ago on the internet software engineer  net engineering  garmin international  yarmouth me  posted  weeks ago on upwardnet fullstack web developer  syrinx  portland me  posted  days ago on the internet senior software engineer  medical records management net • new  humana  portland me  posted  hours ago on cmp api software engineer intern  asurion  portland me  posted  days ago on jobcase front end web developer  virtual career fair yarmouthme  national security agency  yarmouth me  posted  days ago on jobcase principal software engineer  vitera healthcare solutions llc  naples me  posted  month ago on jobleads systems software engineering intern  vertica us  remote  micro focus  portland me  posted  week ago on myjobhelper senior frontend and data visualization engineer • new  northeastern university  portland me  posted  hours ago on the internet \n",
      "\n",
      "Email 90:\n",
      "your passcode for account verification is   enter this passcode on the career opportunities create account page to verify your account  this passcode is valid for  minutes \n",
      "\n",
      "Email 91:\n",
      " dear experteer member  we have found new positions for your saved search   \t  positions for software engineer positions \ttechnical lead denver co \t  \tfullstack developer java based denver co \t  \n",
      "\n",
      "Email 92:\n",
      " hello  are you thinking about asking for a raise use our salary calculator to know how much you should ask for  best regards sam  hiring specialist neuvoo \n",
      "\n",
      "Email 94:\n",
      "junior software developer intern wakefield ma united states sdl junior java developer boston ma united states eliassen group software developer boston ma united states modis software developer boston ma united states bluevoyant \n",
      "\n",
      "Email 96:\n",
      "thank you for setting up your credit card payment if you pay between  pm et and  pm et we’ll credit your account for the date you chose but you might not see it for  days  if you pay after  pm et on your due date and you pay at least the minimum amount due you’ll see a late fee on your account that will be reversed automatically when the payment posts in  days  we’ll process this onetime electronic payment as scheduled\n",
      "\n",
      "Email 97:\n",
      " thanks seth  thanks for being a prime student member based on our records your prime student membership discount will end on april   on that date your prime benefits will automatically renew at the fullprice prime and will continue to get free twoday shipping access to thousands of movies tv shows music ebooks unlimited photo storage and more the change will be automatic charging your default credit card or another card on file the amazon prime membership fee of year plus taxes get the most out of everything prime with the prime insider newsletter you get shopping tips exclusive interviews and user guides plus offers and deals just for prime members delivered weekly to your inbox get the newsletter if you are not interested in continuing with amazon prime please visit manage your prime membership to cancel for more details please refer to our student help section on expiration and the prime student terms  conditions the prime student year plus taxes plan includes the same benefits as amazon prime but these benefits cant be shared with another account amazoncom inc or its affiliates all rights reserved amazoncom and the amazon logo are registered trademarks of amazoncom or its affiliates amazoncom  terry avenue n seattle wa  reference  \n",
      "\n",
      "Email 98:\n",
      "hi seth your package has been delivered  how was your delivery\n",
      "\n",
      "Email 99:\n",
      "a new device has been used to sign in to this nintendo account  device windows browser firefox date and time   location united states  if you do not recognize this signin activity your account may have been accessed by an unauthorized third party please use the following link to change your password httpsaccountsnintendocompasswordedit  you can review your signin history here httpsaccountsnintendocomloginhistory  please note the location is estimated based on the ip address used at the time of signin you cannot opt out of this kind of email\n",
      "\n",
      "Email 101:\n",
      "hi seth rate your experience with the seller makerhawkus\n",
      "\n",
      "Email 102:\n",
      "thank you again for your order of   pieces pgn   inch  precision chrome steel bearing balls g  the available tracking information shows that your item is out for delivery today  when you receive your item please take a moment to verify that it was not damaged in transit if there is any reason that you wouldnt be satisfied with your experience please reply this email right away and well do what we can to make it right you can also rate your experience shopping with us by leaving a feedback clicking on the link below\n",
      "\n",
      "Email 103:\n",
      "your job alert for software engineer   new jobs in new jersey united states match your preferences optello \t software developer  remote est  optello · beach haven nj us \t  \t  actively recruiting linkedin \t  \t  easy apply capgemini \t full stack java developer contract  capgemini · jersey city new jersey united states \n",
      "\n",
      "Email 105:\n",
      "this is just a quick message to confirm that you have completed preemployment cognitive ability free mock test at a score of   categories  numerical reasoning  number series  numerical reasoning  lowest value  numerical reasoning  word problems  abstract reasoning  analogies  abstract reasoning  common features  verbal reasoning  assumptions  conclusions  verbal reasoning  antonyms  abstract reasoning  shape series  verbal reasoning  analogies  numerical reasoning  general  verbal reasoning  antonymsynonym  following instructions  accuracy  precision  verbal reasoning  family trees  verbal reasoning  odd words  abstract reasoning  matrices   please note      this is not a percentile score as will be used in the real test this is the success rate in percentages for example if you answered  correct out of  then the score is \n",
      "\n",
      "Email 114:\n",
      "you only have until pm est tuesday february   to sell either the shining fates elite trainer box x or x lot to unlock an automatic  off the seller fees so stop waiting and get more money back in that payout remember your ask must be accepted within the above timeframe to receive the discount\n",
      "\n",
      "Email 117:\n",
      "thank you for registering your account with eci software solutions career careers  please check back with our careers site to view our openings and apply for jobs  thank you  eci software solutions career  please note this email was sent from an autonotification system that cannot accept incoming email please do not reply to this message if this was not you please click the link below and the account will be deactivated  deactivate account\n",
      "\n",
      "Email 119:\n",
      "hi seth  your financial statement for jan   through feb   has been generated \n",
      "\n",
      "Email 120:\n",
      "hi valued client  retail investors have more information and more tools at their fingertips than ever before   but while charting tools income statements and commissionfree trading are empowering many intermediaries continue to hold power over order execution and transparency a structure that appears to tip the scales in favor of established investors  still it’s not easy to understand how and when you might be putting your money at risk   that’s why kraken intelligence our inhouse research experts has compiled a robust analysis of how markets are structured that examines both the issues inherent in traditional markets and how cryptocurrencies and digital assets level the playing field\n",
      "\n",
      "Email 123:\n",
      "i have emailed you the detailed job description please revert on email along with your details to submit your application  thanks  regards anchala jain talent acquisition group  north america tata consultancy services  wwwtcscom \n",
      "\n",
      "Email 124:\n",
      " starting march   ebay will no longer offer sellers the option to change their invoiced currency to nonus currency on their ebay invoices if you are currently receiving ebay invoices in a currency other than us dollars you will continue to receive your invoices in your selected currency beginning march  you will only be able to change your nonus currency to us dollars we are making this change to create a streamlined user experience for seller disbursements and charges when you join managed payments  most us sellers are already billed in us dollars the change will affect a small percentage of sellers who currently use foreign currencies on their ebay invoices  thank you for selling on ebay your selling team \n",
      "\n",
      "Email 127:\n",
      "your free youmail plan includes  inapp transcriptions per month upgrade to any premium plan to get more per month and also see and search them online and in email alerts \n",
      "\n"
     ]
    }
   ],
   "execution_count": 217
  },
  {
   "metadata": {},
   "cell_type": "markdown",
   "source": "RoBERTa identified the same neutral sentiments as Vader with an additional 21 emails more emails, observing the contents of these emails it can be said they are neutral in tone. This indicates that RoBERTa is more effective at accurately identifying neutral sentiment."
  },
  {
   "metadata": {
    "ExecuteTime": {
     "end_time": "2024-09-09T16:35:26.205722Z",
     "start_time": "2024-09-09T16:35:26.200342Z"
    }
   },
   "cell_type": "code",
   "source": [
    "# view the emails categorised as neutral - RE Vader\n",
    "vader_neutral_emails_re = df1[(df1['Status'] == 'reject') & (df1['Vader'] == 'neutral')]['Email']\n",
    "for idx, email in vader_neutral_emails_re.items():\n",
    "    print(f\"Email {idx}:\\n{email}\\n\")"
   ],
   "outputs": [
    {
     "name": "stdout",
     "output_type": "stream",
     "text": [
      "Email 0:\n",
      "thank you for applying to the junior software developer position at msc technology unfortunately msc technology has moved to the next step in their hiring process and your application was not selected at this time\n",
      "\n",
      "Email 10:\n",
      "thank you for applying to the java developer position at sports information analysis unfortunately sports information analysis has moved to the next step in their hiring process and your application was not selected at this time\n",
      "\n",
      "Email 12:\n",
      "thank you for applying to the entrylevel web programmer position at oahu publications inc unfortunately oahu publications inc has moved to the next step in their hiring process and your application was not selected at this time\n",
      "\n",
      "Email 17:\n",
      "thank you for applying to the entry level developer position at the nexxus group unfortunately the nexxus group has moved to the next step in their hiring process and your application was not selected at this time\n",
      "\n",
      "Email 20:\n",
      "thank you for applying to the full stack developer position at test innovators unfortunately test innovators has moved to the next step in their hiring process and your application was not selected at this time\n",
      "\n",
      "Email 21:\n",
      "thank you for applying to the backend developer position at yinzcam inc unfortunately yinzcam inc has moved to the next step in their hiring process and your application was not selected at this time\n",
      "\n",
      "Email 22:\n",
      "thank you for applying to the javascript  ruby on rails developer  remote  work from home position at tithely unfortunately tithely has moved to the next step in their hiring process and your application was not selected at this time\n",
      "\n",
      "Email 33:\n",
      "thank you for applying to the wordpress developerweb development intern position at revolusun unfortunately revolusun has moved to the next step in their hiring process and your application was not selected at this time\n",
      "\n"
     ]
    }
   ],
   "execution_count": 218
  },
  {
   "metadata": {
    "ExecuteTime": {
     "end_time": "2024-09-09T16:35:26.380564Z",
     "start_time": "2024-09-09T16:35:26.373514Z"
    }
   },
   "cell_type": "code",
   "source": [
    "# view the emails categorised as neutral - RE RoBERTa\n",
    "roberta_neutral_emails_re = df1[(df1['Status'] == 'reject') & (df1['Roberta'] == 'neutral')]['Email']\n",
    "for idx, email in roberta_neutral_emails_re.items():\n",
    "    print(f\"Email {idx}:\\n{email}\\n\")"
   ],
   "outputs": [
    {
     "name": "stdout",
     "output_type": "stream",
     "text": [
      "Email 0:\n",
      "thank you for applying to the junior software developer position at msc technology unfortunately msc technology has moved to the next step in their hiring process and your application was not selected at this time\n",
      "\n",
      "Email 10:\n",
      "thank you for applying to the java developer position at sports information analysis unfortunately sports information analysis has moved to the next step in their hiring process and your application was not selected at this time\n",
      "\n",
      "Email 20:\n",
      "thank you for applying to the full stack developer position at test innovators unfortunately test innovators has moved to the next step in their hiring process and your application was not selected at this time\n",
      "\n",
      "Email 22:\n",
      "thank you for applying to the javascript  ruby on rails developer  remote  work from home position at tithely unfortunately tithely has moved to the next step in their hiring process and your application was not selected at this time\n",
      "\n",
      "Email 31:\n",
      "thanks for your interest in the web designerdeveloper internconsultant position at cannabis creative group we have reviewed your application unfortunately you are not the right fit for the position at this time because we are looking for someone local  best of luck in your job search  sincerely ccg human resources\n",
      "\n"
     ]
    }
   ],
   "execution_count": 219
  },
  {
   "metadata": {},
   "cell_type": "markdown",
   "source": "These should all technically be considered negative as they are rejections, however as discussed previously, the polite and positive language such as \"thank you\" \"next step\" and \"best of luck\" may mitigate the impact of negative tokens like \"unfortunately\" and \"not.\" Vader's higher count compared to RoBERTa suggets it is better at identifying the negative tokens despite the presence of positive langauge, whereas RoBERTa may have classified these emails as positive."
  },
  {
   "metadata": {
    "ExecuteTime": {
     "end_time": "2024-09-09T16:35:26.552518Z",
     "start_time": "2024-09-09T16:35:26.547072Z"
    }
   },
   "cell_type": "code",
   "source": [
    "# view the emails categorised as negative  - NRE Vader\n",
    "vader_neg_emails_nre = df1[(df1['Status'] == 'not_reject') & (df1['Vader'] == 'neg')]['Email']\n",
    "for idx, email in vader_neg_emails_nre.items():\n",
    "    print(f\"Email {idx}:\\n{email}\\n\")"
   ],
   "outputs": [
    {
     "name": "stdout",
     "output_type": "stream",
     "text": [
      "Email 108:\n",
      "we are writing to let you know that an error in our domain verification check process for firebase hosting caused a number of emails with a subject line of firebase reverify ownership of your hosting domain to be sent incorrectly you’re receiving this email because you were sent one or more ownership reverification notices between february  to february  \n",
      "\n",
      "Email 114:\n",
      "you only have until pm est tuesday february   to sell either the shining fates elite trainer box x or x lot to unlock an automatic  off the seller fees so stop waiting and get more money back in that payout remember your ask must be accepted within the above timeframe to receive the discount\n",
      "\n"
     ]
    }
   ],
   "execution_count": 220
  },
  {
   "metadata": {
    "ExecuteTime": {
     "end_time": "2024-09-09T16:35:26.616309Z",
     "start_time": "2024-09-09T16:35:26.610242Z"
    }
   },
   "cell_type": "code",
   "source": [
    "# view the emails categorised as negative - NRE RoBERTa\n",
    "roberta_neg_emails_nre = df1[(df1['Status'] == 'not_reject') & (df1['Roberta'] == 'neg')]['Email']\n",
    "for idx, email in roberta_neg_emails_nre.items():\n",
    "    print(f\"Email {idx}:\\n{email}\\n\")"
   ],
   "outputs": [
    {
     "name": "stdout",
     "output_type": "stream",
     "text": [
      "Email 108:\n",
      "we are writing to let you know that an error in our domain verification check process for firebase hosting caused a number of emails with a subject line of firebase reverify ownership of your hosting domain to be sent incorrectly you’re receiving this email because you were sent one or more ownership reverification notices between february  to february  \n",
      "\n",
      "Email 118:\n",
      " for any issues including the recipient not receiving funds please contact us at supportvenmocom or call  see our disclosures for more information please do not reply directly to this email for more assistance visit our help center at helpvenmocom this payment will be reviewed for compliance with our user agreement and if we determine that there is a violation by either party it may be reversed or your ability to transfer to your bank account may be restricted \n",
      "\n"
     ]
    }
   ],
   "execution_count": 221
  },
  {
   "metadata": {},
   "cell_type": "markdown",
   "source": "Both models classed email 108 as negative which appears correct as it's advising on an error. There's an interesting difference between Vader selecting 114 and RoBERTa selecting 118 as their second negative email choices; 114 is a sales email using language to build pressure on selling an item quickly, whereas 118 is informative however words such as \"violation\" \"issues\" and \"restricted\" allude to a negative sentiment. Each model appears to have a nuanced take on how they contextualise negative tone in each email."
  },
  {
   "cell_type": "code",
   "metadata": {
    "ExecuteTime": {
     "end_time": "2024-09-09T16:35:26.666214Z",
     "start_time": "2024-09-09T16:35:26.659579Z"
    }
   },
   "source": [
    "# view the emails categorised as negative  - RE Vader\n",
    "vader_neg_emails_nre = df1[(df1['Status'] == 'reject') & (df1['Vader'] == 'neg')]['Email']\n",
    "for idx, email in vader_neg_emails_nre.items():\n",
    "    print(f\"Email {idx}:\\n{email}\\n\")"
   ],
   "outputs": [
    {
     "name": "stdout",
     "output_type": "stream",
     "text": [
      "Email 27:\n",
      "unfortunately softsages technology inc has decided not to move forward with your software developer  entry level application at this time \n",
      "\n",
      "Email 28:\n",
      "unfortunately patientslikeme llc has decided not to move forward with your full stack software engineer application at this time \n",
      "\n",
      "Email 44:\n",
      "unfortunately vensit has decided not to move forward with your junior python developeronly w roles application at this time \n",
      "\n"
     ]
    }
   ],
   "execution_count": 222
  },
  {
   "metadata": {
    "ExecuteTime": {
     "end_time": "2024-09-09T16:35:26.722696Z",
     "start_time": "2024-09-09T16:35:26.716756Z"
    }
   },
   "cell_type": "code",
   "source": [
    "# view the emails categorised as negative - RE RoBERTa\n",
    "roberta_neg_emails_re = df1[(df1['Status'] == 'reject') & (df1['Roberta'] == 'neg')]['Email']\n",
    "for idx, email in roberta_neg_emails_re.items():\n",
    "    print(f\"Email {idx}:\\n{email}\\n\")"
   ],
   "outputs": [
    {
     "name": "stdout",
     "output_type": "stream",
     "text": [
      "Email 12:\n",
      "thank you for applying to the entrylevel web programmer position at oahu publications inc unfortunately oahu publications inc has moved to the next step in their hiring process and your application was not selected at this time\n",
      "\n",
      "Email 17:\n",
      "thank you for applying to the entry level developer position at the nexxus group unfortunately the nexxus group has moved to the next step in their hiring process and your application was not selected at this time\n",
      "\n",
      "Email 21:\n",
      "thank you for applying to the backend developer position at yinzcam inc unfortunately yinzcam inc has moved to the next step in their hiring process and your application was not selected at this time\n",
      "\n",
      "Email 26:\n",
      "hi seth  thanks for your interest in fritz ai unfortunately we are unable to offer you a position at this time well keep your resume on file and reach out if that changes in the future  best jameson\n",
      "\n",
      "Email 27:\n",
      "unfortunately softsages technology inc has decided not to move forward with your software developer  entry level application at this time \n",
      "\n",
      "Email 28:\n",
      "unfortunately patientslikeme llc has decided not to move forward with your full stack software engineer application at this time \n",
      "\n",
      "Email 33:\n",
      "thank you for applying to the wordpress developerweb development intern position at revolusun unfortunately revolusun has moved to the next step in their hiring process and your application was not selected at this time\n",
      "\n",
      "Email 44:\n",
      "unfortunately vensit has decided not to move forward with your junior python developeronly w roles application at this time \n",
      "\n"
     ]
    }
   ],
   "execution_count": 223
  },
  {
   "cell_type": "markdown",
   "metadata": {},
   "source": "The token \"unfortunatley\" appears to be the keyword in both models in detecting negative sentiment in the rejection emails, if there was more time available further analysis of this keyword in the dataset would be beneficial. RoBERTa identified more rejection emails compared to Vader, which only detected \"unfortunately\" as a negative indicator when it appeared at the beginning of a sentence."
  },
  {
   "metadata": {
    "ExecuteTime": {
     "end_time": "2024-09-09T16:35:26.771858Z",
     "start_time": "2024-09-09T16:35:26.769659Z"
    }
   },
   "cell_type": "code",
   "source": "",
   "outputs": [],
   "execution_count": null
  }
 ],
 "metadata": {
  "kernelspec": {
   "display_name": "Python 3 (ipykernel)",
   "language": "python",
   "name": "python3"
  },
  "language_info": {
   "codemirror_mode": {
    "name": "ipython",
    "version": 3
   },
   "file_extension": ".py",
   "mimetype": "text/x-python",
   "name": "python",
   "nbconvert_exporter": "python",
   "pygments_lexer": "ipython3",
   "version": "3.10.12"
  },
  "papermill": {
   "default_parameters": {},
   "duration": 8.412623,
   "end_time": "2021-02-27T19:54:41.333676",
   "environment_variables": {},
   "exception": null,
   "input_path": "__notebook__.ipynb",
   "output_path": "__notebook__.ipynb",
   "parameters": {},
   "start_time": "2021-02-27T19:54:32.921053",
   "version": "2.2.2"
  }
 },
 "nbformat": 4,
 "nbformat_minor": 4
}
